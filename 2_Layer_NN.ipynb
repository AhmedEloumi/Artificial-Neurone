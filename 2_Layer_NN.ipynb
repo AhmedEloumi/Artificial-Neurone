{
  "nbformat": 4,
  "nbformat_minor": 0,
  "metadata": {
    "colab": {
      "name": "2 Layer NN",
      "provenance": [],
      "authorship_tag": "ABX9TyM2uYLQLAUCMq8KO1wj+CSA",
      "include_colab_link": true
    },
    "kernelspec": {
      "name": "python3",
      "display_name": "Python 3"
    },
    "language_info": {
      "name": "python"
    }
  },
  "cells": [
    {
      "cell_type": "markdown",
      "metadata": {
        "id": "view-in-github",
        "colab_type": "text"
      },
      "source": [
        "<a href=\"https://colab.research.google.com/github/AhmedEloumi/Artificial-Neurone/blob/main/2_Layer_NN.ipynb\" target=\"_parent\"><img src=\"https://colab.research.google.com/assets/colab-badge.svg\" alt=\"Open In Colab\"/></a>"
      ]
    },
    {
      "cell_type": "code",
      "execution_count": 1,
      "metadata": {
        "id": "Qz5V4OdarqC4"
      },
      "outputs": [],
      "source": [
        "import numpy as np\n",
        "import matplotlib.pyplot as plt\n",
        "from sklearn.datasets import make_blobs, make_circles\n",
        "from sklearn.metrics import accuracy_score, log_loss\n",
        "from tqdm import tqdm"
      ]
    },
    {
      "cell_type": "code",
      "source": [
        "def initialisation(n0, n1, n2):\n",
        "\n",
        "    W1 = np.random.randn(n1, n0)\n",
        "    b1 = np.zeros((n1, 1))\n",
        "    W2 = np.random.randn(n2, n1)\n",
        "    b2 = np.zeros((n2, 1))\n",
        "\n",
        "    parametres = {\n",
        "        'W1': W1,\n",
        "        'b1': b1,\n",
        "        'W2': W2,\n",
        "        'b2': b2\n",
        "    }\n",
        "\n",
        "    return parametres"
      ],
      "metadata": {
        "id": "nfmRVcPF1SYl"
      },
      "execution_count": 2,
      "outputs": []
    },
    {
      "cell_type": "code",
      "source": [
        "def forward_propagation(X, parametres):\n",
        "\n",
        "    W1 = parametres['W1']\n",
        "    b1 = parametres['b1']\n",
        "    W2 = parametres['W2']\n",
        "    b2 = parametres['b2']\n",
        "\n",
        "    Z1 = W1.dot(X) + b1\n",
        "    A1 = 1 / (1 + np.exp(-Z1))\n",
        "\n",
        "    Z2 = W2.dot(A1) + b2\n",
        "    A2 = 1 / (1 + np.exp(-Z2))\n",
        "\n",
        "    activations = {\n",
        "        'A1': A1,\n",
        "        'A2': A2\n",
        "    }\n",
        "\n",
        "    return activations"
      ],
      "metadata": {
        "id": "DFP8kqmR1UmO"
      },
      "execution_count": 3,
      "outputs": []
    },
    {
      "cell_type": "code",
      "source": [
        "def back_propagation(X, y, parametres, activations):\n",
        "\n",
        "    A1 = activations['A1']\n",
        "    A2 = activations['A2']\n",
        "    W2 = parametres['W2']\n",
        "\n",
        "    m = y.shape[1]\n",
        "\n",
        "    dZ2 = A2 - y\n",
        "    dW2 = 1 / m * dZ2.dot(A1.T)\n",
        "    db2 = 1 / m * np.sum(dZ2, axis=1, keepdims = True)\n",
        "\n",
        "    dZ1 = np.dot(W2.T, dZ2) * A1 * (1 - A1)\n",
        "    dW1 = 1 / m * dZ1.dot(X.T)\n",
        "    db1 = 1 / m * np.sum(dZ1, axis=1, keepdims = True)\n",
        "\n",
        "    gradients = {\n",
        "        'dW1' : dW1,\n",
        "        'db1' : db1,\n",
        "        'dW2' : dW2,\n",
        "        'db2' : db2\n",
        "    }\n",
        "    \n",
        "    return gradients"
      ],
      "metadata": {
        "id": "8zT0x4kO1ccr"
      },
      "execution_count": 4,
      "outputs": []
    },
    {
      "cell_type": "code",
      "source": [
        "def update(gradients, parametres, learning_rate):\n",
        "\n",
        "    W1 = parametres['W1']\n",
        "    b1 = parametres['b1']\n",
        "    W2 = parametres['W2']\n",
        "    b2 = parametres['b2']\n",
        "\n",
        "    dW1 = gradients['dW1']\n",
        "    db1 = gradients['db1']\n",
        "    dW2 = gradients['dW2']\n",
        "    db2 = gradients['db2']\n",
        "\n",
        "    W1 = W1 - learning_rate * dW1\n",
        "    b1 = b1 - learning_rate * db1\n",
        "    W2 = W2 - learning_rate * dW2\n",
        "    b2 = b2 - learning_rate * db2\n",
        "\n",
        "    parametres = {\n",
        "        'W1': W1,\n",
        "        'b1': b1,\n",
        "        'W2': W2,\n",
        "        'b2': b2\n",
        "    }\n",
        "\n",
        "    return parametres"
      ],
      "metadata": {
        "id": "vfUIqw2a1i2o"
      },
      "execution_count": 5,
      "outputs": []
    },
    {
      "cell_type": "code",
      "source": [
        "def predict(X, parametres):\n",
        "  activations = forward_propagation(X, parametres)\n",
        "  A2 = activations['A2']\n",
        "  return A2 >= 0.5"
      ],
      "metadata": {
        "id": "EZUdEePT1mWS"
      },
      "execution_count": 6,
      "outputs": []
    },
    {
      "cell_type": "code",
      "source": [
        "def neural_network(X, y, n1=32, learning_rate = 0.1, n_iter = 1000):\n",
        "\n",
        "    # initialisation parametres\n",
        "    n0 = X.shape[0]\n",
        "    n2 = y.shape[0]\n",
        "    np.random.seed(0)\n",
        "    parametres = initialisation(n0, n1, n2)\n",
        "\n",
        "    train_loss = []\n",
        "    train_acc = []\n",
        "    history = []\n",
        "\n",
        "    # gradient descent\n",
        "    for i in tqdm(range(n_iter)):\n",
        "        activations = forward_propagation(X, parametres)\n",
        "        A2 = activations['A2']\n",
        "\n",
        "        # Plot courbe d'apprentissage\n",
        "        train_loss.append(log_loss(y.flatten(), A2.flatten()))\n",
        "        y_pred = predict(X, parametres)\n",
        "        train_acc.append(accuracy_score(y.flatten(), y_pred.flatten()))\n",
        "        \n",
        "        history.append([parametres.copy(), train_loss, train_acc, i])\n",
        "\n",
        "        # mise a jour\n",
        "        gradients = back_propagation(X, y, parametres, activations)\n",
        "        parametres = update(gradients, parametres, learning_rate)\n",
        "\n",
        "    plt.figure(figsize=(12, 4))\n",
        "    plt.subplot(1, 2, 1)\n",
        "    plt.plot(train_loss, label='train loss')\n",
        "    plt.legend()\n",
        "    plt.subplot(1, 2, 2)\n",
        "    plt.plot(train_acc, label='train acc')\n",
        "    plt.legend()\n",
        "    plt.show()\n",
        "\n",
        "    return parametres"
      ],
      "metadata": {
        "id": "0tMGgp2W3m1s"
      },
      "execution_count": 7,
      "outputs": []
    },
    {
      "cell_type": "markdown",
      "source": [
        "#DATASET"
      ],
      "metadata": {
        "id": "pe4f9m4P4KI0"
      }
    },
    {
      "cell_type": "code",
      "source": [
        "X, y = make_circles(n_samples=100, noise=0.1, factor=0.3, random_state=0)\n",
        "X = X.T\n",
        "y = y.reshape((1, y.shape[0]))\n",
        "\n",
        "print('dimensions de X:', X.shape)\n",
        "print('dimensions de y:', y.shape)\n",
        "\n",
        "plt.scatter(X[0, :], X[1, :], c=y, cmap='summer')\n",
        "plt.show()\n"
      ],
      "metadata": {
        "colab": {
          "base_uri": "https://localhost:8080/",
          "height": 300
        },
        "id": "shSL8YXl4IBQ",
        "outputId": "531e517c-f7c8-448c-cae7-01101d2fb137"
      },
      "execution_count": 8,
      "outputs": [
        {
          "output_type": "stream",
          "name": "stdout",
          "text": [
            "dimensions de X: (2, 100)\n",
            "dimensions de y: (1, 100)\n"
          ]
        },
        {
          "output_type": "display_data",
          "data": {
            "text/plain": [
              "<Figure size 432x288 with 1 Axes>"
            ],
            "image/png": "[encoded data removed]"
          },
          "metadata": {
            "needs_background": "light"
          }
        }
      ]
    },
    {
      "cell_type": "code",
      "source": [
        "neural_network(X, y, n1=32)"
      ],
      "metadata": {
        "colab": {
          "base_uri": "https://localhost:8080/",
          "height": 1000
        },
        "id": "IKm8PvC74Pis",
        "outputId": "e0c48ede-fb67-4639-9d23-bbadd3211ae8"
      },
      "execution_count": 9,
      "outputs": [
        {
          "output_type": "stream",
          "name": "stderr",
          "text": [
            "100%|██████████| 1000/1000 [00:02<00:00, 394.54it/s]\n"
          ]
        },
        {
          "output_type": "display_data",
          "data": {
            "text/plain": [
              "<Figure size 864x288 with 2 Axes>"
            ],
            "image/png": "[encoded data removed]"
          },
          "metadata": {
            "needs_background": "light"
          }
        },
        {
          "output_type": "execute_result",
          "data": {
            "text/plain": [
              "{'W1': array([[ 1.80212588,  0.37821374],\n",
              "        [ 1.01147118,  2.72196966],\n",
              "        [ 2.58920092, -1.12112355],\n",
              "        [ 1.0508304 , -0.23999551],\n",
              "        [-0.32911352,  0.61126472],\n",
              "        [ 0.10449739,  1.5211303 ],\n",
              "        [ 0.90568599,  0.00334079],\n",
              "        [ 0.44974817,  0.32479341],\n",
              "        [ 2.19228574, -0.55199865],\n",
              "        [ 0.07362119, -0.72521454],\n",
              "        [-2.55294805,  0.64962759],\n",
              "        [ 0.79621311, -0.67148306],\n",
              "        [ 2.47060832, -1.49806086],\n",
              "        [-0.08319614, -0.07417017],\n",
              "        [ 1.61979578,  1.66597748],\n",
              "        [ 0.1398299 ,  0.38577941],\n",
              "        [-1.5500226 , -2.61344251],\n",
              "        [-0.19459163,  0.0227914 ],\n",
              "        [ 1.3320316 ,  1.1949539 ],\n",
              "        [-0.71462983, -0.02385873],\n",
              "        [-1.23999647, -2.47955126],\n",
              "        [-2.07311228,  2.57822617],\n",
              "        [-0.31829059, -0.65082684],\n",
              "        [-1.46140776,  0.96926358],\n",
              "        [-2.59100928, -0.09863181],\n",
              "        [-0.78361708,  0.24660244],\n",
              "        [-0.63362911, -1.18964448],\n",
              "        [ 0.17256072,  0.22460295],\n",
              "        [ 0.08147971,  0.28453067],\n",
              "        [-0.49084692, -0.52323217],\n",
              "        [-0.63238933, -0.40196504],\n",
              "        [-0.79406174, -2.12548332]]),\n",
              " 'W2': array([[ 0.22266084, -1.80462233, -2.42962594,  0.4136683 , -1.32685359,\n",
              "         -0.54372178,  0.59478101, -0.13161512,  1.69377949, -1.37413274,\n",
              "         -0.41048486, -0.74712648, -1.47717838, -0.85803551, -1.07435841,\n",
              "         -0.2700743 , -2.48820231,  0.54650674,  0.41287645, -1.90551401,\n",
              "          2.22419434,  2.47254256,  0.90462615, -1.05235962, -2.3293656 ,\n",
              "          0.56939008, -0.71529265,  0.89493879, -0.11718641,  0.65795803,\n",
              "          0.00674728,  1.13550524]]),\n",
              " 'b1': array([[ 0.23078455],\n",
              "        [-1.32264413],\n",
              "        [-1.47764201],\n",
              "        [ 0.16617422],\n",
              "        [-0.09384934],\n",
              "        [-0.28249715],\n",
              "        [ 0.1434703 ],\n",
              "        [-0.00400412],\n",
              "        [ 1.07366016],\n",
              "        [-0.17318453],\n",
              "        [-0.23088063],\n",
              "        [-0.23375636],\n",
              "        [-1.19500203],\n",
              "        [ 0.09860723],\n",
              "        [-0.82273456],\n",
              "        [ 0.00199761],\n",
              "        [-1.53871161],\n",
              "        [-0.08439808],\n",
              "        [ 0.37972245],\n",
              "        [-0.10838977],\n",
              "        [ 1.4616674 ],\n",
              "        [ 1.7604331 ],\n",
              "        [ 0.13016958],\n",
              "        [-0.5653716 ],\n",
              "        [-1.3137538 ],\n",
              "        [ 0.13198297],\n",
              "        [-0.33018176],\n",
              "        [-0.10135498],\n",
              "        [-0.00515508],\n",
              "        [ 0.10008457],\n",
              "        [ 0.01747326],\n",
              "        [ 0.95369839]]),\n",
              " 'b2': array([[-0.58428489]])}"
            ]
          },
          "metadata": {},
          "execution_count": 9
        }
      ]
    },
    {
      "cell_type": "code",
      "source": [
        ""
      ],
      "metadata": {
        "id": "wCdKT8Sa4SZc"
      },
      "execution_count": null,
      "outputs": []
    }
  ]
}